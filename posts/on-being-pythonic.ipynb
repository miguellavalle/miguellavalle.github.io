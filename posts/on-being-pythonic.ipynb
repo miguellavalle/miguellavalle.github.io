{
 "cells": [
  {
   "cell_type": "markdown",
   "id": "d3a02692",
   "metadata": {},
   "source": [
    "I recently was given a Python coding challenge during a job interview. I was criticized for not writing \"pythonic\" enough code. The good news is that I did great with the other interviewers in the panel, so I still got the job \\o/. Afterwards, though, I decided to use the criticism as a learning opportunity, revisit the challenge and write this blog post with the resulting code, while making my best effort to be \"pythonic\". To that end, here's a basic definition: pythonic code uses the powerful idioms of Python that distinguishes it from other languages to produce elegant and concise programs. To guide me on the road to being \"pythonic\", I am using the following references:\n",
    "\n",
    "- [Transforming Code into Beautiful, Idiomatic Python](https://www.youtube.com/watch?v=OSGv2VnC0go) ([slides](https://speakerdeck.com/pyconslides/transforming-code-into-beautiful-idiomatic-python-by-raymond-hettinger-1)) by [Raymond Hettinger](https://github.com/rhettinger), who is a Python core developer.\n",
    "- Since in this exercise we are going to use generators and coroutines, my other reference is [Making sense of generators, coroutines, and “yield from” in Python](https://lerner.co.il/2020/05/08/making-sense-of-generators-coroutines-and-yield-from-in-python/) by [Reuven Lerner](https://lerner.co.il/), who teaches Python all over the world.\n",
    "\n",
    "In the code that follows I will cover the following topics\n",
    "\n",
    "- One of the aspects that strongly distinguishes Python from other programming languages is its approach to iterations. As Raymond Hettinger argues in his presentation, Python's `for` statement should have been called `for each` to better reflect its semantics. I will talk about iterables, iterators, the iterator protocol, generators and co-routines.\n",
    "- Python's regular expresions module.\n",
    "- Improving clarity with named tuples.\n",
    "- Factoring out administrative logic with decorators.\n",
    "\n",
    "The coding problem was stated as follows:"
   ]
  },
  {
   "cell_type": "code",
   "execution_count": 46,
   "id": "f82f9b66",
   "metadata": {},
   "outputs": [],
   "source": [
    "# Model a computing device that can load third party programs.\n",
    "\n",
    "# PROGRAMS consist of ACTIONS that share an execution ENVIRONMENT,\n",
    "# particularly computer STATE. ACTIONS belong to a limited set supported\n",
    "# by this device. ACTIONS can communicate with each other through\n",
    "# REGISTERS.\n",
    "\n",
    "# PROGRAM execution results in computer STATE change. The STATE change\n",
    "# can then be inspected.\n",
    "\n",
    "# Device should allow to LOAD multiple PROGRAMS and execute them\n",
    "# SEQUENTIALLY.\n",
    "\n",
    "# Typical API of the computing device would include:\n",
    "# - load(_program)\n",
    "# - execute\n",
    "# - (get_)state\n",
    "\n",
    "# Implement the device, define two programs (see below), load them\n",
    "# and execute, then show results.\n",
    "\n",
    "# program1: receive int through INPUT; add +10 to the INPUT; store result.\n",
    "# program2: load result of previous program execution; depending on if\n",
    "#           it's > 50, set a register in machine state to 100; otherwise to 0.\n",
    "\n",
    "# usage example\n",
    "# c = Computer(...)\n",
    "# p1 = Program(...)\n",
    "# p2 = Program(...)\n",
    "# c.state()  # -> {...}\n",
    "# c.load(p1, input=...)\n",
    "# c.load(p2, input=...)\n",
    "# c.execute()\n",
    "# c.state()  # -> {...0 or 100...}"
   ]
  },
  {
   "cell_type": "markdown",
   "id": "fe3fea78",
   "metadata": {},
   "source": [
    "## Recognizing instructions with Python regular expressions\n",
    "\n",
    "To make parsing programs easy, the computing device (henceforth the computer) will have one operand instructions and an accumulator register. The `add` instruction, for example, adds its operand to the accumulator register. This means that we are also going to need `lda`  and `sto` instructions, that load a value to the accumulator and store the value of the accumulator in another register, respectively.  Those registers are part of the computer's state and are described further below. To be able to write `program1` and `program2` in the coding challenge, the following is the minimum action set necessary:"
   ]
  },
  {
   "cell_type": "code",
   "execution_count": 47,
   "id": "afadc34a",
   "metadata": {},
   "outputs": [],
   "source": [
    "ACTION_SET = set(['lda', 'sto', 'bgt', 'cmp', 'add'])\n",
    "ACTIONS_NO_LITERAL = set(['sto', 'bgt'])\n",
    "BRANCHES = set(['bgt'])"
   ]
  },
  {
   "cell_type": "markdown",
   "id": "ae5d7edf",
   "metadata": {},
   "source": [
    "Some instructions, like `lda` or `add` can take two types of operands, registers and literals:\n",
    "\n",
    "- `lda r0` loads the content of register `r0` to the acumulator.\n",
    "- `lda #10` loads the value `10` to the acumulator.\n",
    "\n",
    "In the case of the `sto` instruction, though, it doesn't make sense to have literal operands. This instruction always stores the value in the acumulator in one of the registers. The set `ACTIONS_NO_LITERAL` will help in processing this type of instructions.\n",
    "\n",
    "Similarly, branches only accept destination operands, which is an integer `i` from `0` to `n - 1`, where `n` is the total number of instructions in the program. Branches, like `bgt`, direct the computer to continue fetching instructions from the location specified by the destination operand.  In other words, the computer is expected to fetch next the `ith` instruction from the beginning of the program. The set `BRANCHES` will help in processing this type of instructions.\n",
    "\n",
    "To parse a programs, we are going to use Python's `re` (regular expressions) module:"
   ]
  },
  {
   "cell_type": "code",
   "execution_count": 48,
   "id": "becc2bcf",
   "metadata": {},
   "outputs": [],
   "source": [
    "import re\n",
    "\n",
    "RE_LINE = re.compile(\n",
    "    r'^(?P<action>[a-z]{3})\\s+(?P<arg>r[io0-9]$|\\#-?[0-9]+$|[0-9]+$)')"
   ]
  },
  {
   "cell_type": "markdown",
   "id": "cbf08427",
   "metadata": {},
   "source": [
    "This regular expression parses one instruction at a time. It can be divided in three parts:\n",
    "\n",
    "1. The named capture group `^(?P<action>[a-z]{3})` recognizes sequences of 3 alphabetic characters that correspond to members of `ACTION_SET`. Note that it is anchored to the beginning of the string with `^`.\n",
    "2. One or more whitespaces `\\s+` that separate the `action` from the `arg`.\n",
    "3. The named capture group `(?P<arg>r[io0-9]$|\\#-?[0-9]+$|[0-9]+$)`. This group can be one of three alternatives, separated by `|` in the regular expression (note that each alternative is anchored to the end of the string with `$`):\n",
    "- `r[io0-9]$`, one of the computer's registers `ri`, `ro`, `r0`,... `r9` or...\n",
    "- `#-?[0-9]+$`, a literal beginning with `#` as explained above or...\n",
    "- `[0-9]+$`, a branch destination as explained above.\n",
    "\n",
    "These are a few examples of the instructions that can be parsed:"
   ]
  },
  {
   "cell_type": "code",
   "execution_count": 49,
   "id": "29d80258",
   "metadata": {},
   "outputs": [
    {
     "name": "stdout",
     "output_type": "stream",
     "text": [
      "lda\n",
      "r0 \n",
      "\n",
      "add\n",
      "#16 \n",
      "\n",
      "bgt\n",
      "23\n"
     ]
    }
   ],
   "source": [
    "# Instruction with register operand\n",
    "match = RE_LINE.search('lda r0')\n",
    "print(match.group('action'))\n",
    "print(match.group('arg'), '\\n')\n",
    "\n",
    "# Instruction with literal operand\n",
    "match = RE_LINE.search('add      #16')\n",
    "print(match.group('action'))\n",
    "print(match.group('arg'), '\\n')\n",
    "\n",
    "# Instruction with branch destination operand\n",
    "match = RE_LINE.search('bgt 23')\n",
    "print(match.group('action'))\n",
    "print(match.group('arg'))"
   ]
  },
  {
   "cell_type": "markdown",
   "id": "b8cc5424",
   "metadata": {},
   "source": [
    "If the provided string doesn't conform with the regular expression, no match object will be returned by the `search` method:"
   ]
  },
  {
   "cell_type": "code",
   "execution_count": 50,
   "id": "24193f13",
   "metadata": {},
   "outputs": [
    {
     "name": "stdout",
     "output_type": "stream",
     "text": [
      "None \n",
      "\n",
      "None \n",
      "\n",
      "None\n"
     ]
    }
   ],
   "source": [
    "# Invalid action\n",
    "match = RE_LINE.search('ldab r0')\n",
    "print(match, '\\n')\n",
    "\n",
    "# Invalid operand\n",
    "match = RE_LINE.search('lda ##10')\n",
    "print(match, '\\n')\n",
    "\n",
    "# No operand\n",
    "match = RE_LINE.search('lda')\n",
    "print(match)"
   ]
  },
  {
   "cell_type": "markdown",
   "id": "b91627b7",
   "metadata": {},
   "source": [
    "For a deeper look into Python's regular expressions, here's [part 1](https://realpython.com/regex-python/#) and [part 2](https://realpython.com/regex-python-part-2/) of an excellent tutorial."
   ]
  },
  {
   "cell_type": "markdown",
   "id": "940d5ed0",
   "metadata": {},
   "source": [
    "## Using coroutines to implement programs\n",
    "\n",
    "Python lists have two characteristics that make them very suitable to represent the programs as defined in this coding challenge:\n",
    "\n",
    "- They are an ordered collection of objects. A program is an ordered collection of instructions, with each instruction being a string that can be recognized using the regular expresion `RE_LINE` defined above.\n",
    "- Their individual elements can be directly accesed using and integer index. This index will serve as the program counter, i.e. the pointer to the next instruction within a program to be executed.\n",
    "\n",
    "We are going to tweak the behavior of lists a little bit, though, to control better the execution of programs. So instead of using lists directly, we are going  to use [collections.UserList](https://docs.python.org/3/library/collections.html#userlist-objects), a useful base class for user defined list-like classes which can inherit from them and override existing methods or add new ones. To be more precise, there will be a `Program` class that will inherit from `collections.UserList` and override the `__iter__()` method. As can be seen below, the original `__iter__()` method initializes an index `i` with `0` and proceeds to iterate sequentially over the list, returning the next element in each iteration:"
   ]
  },
  {
   "cell_type": "code",
   "execution_count": 51,
   "id": "1e802edb",
   "metadata": {
    "scrolled": false
   },
   "outputs": [
    {
     "name": "stdout",
     "output_type": "stream",
     "text": [
      "    def __iter__(self):\n",
      "        i = 0\n",
      "        try:\n",
      "            while True:\n",
      "                v = self[i]\n",
      "                yield v\n",
      "                i += 1\n",
      "        except IndexError:\n",
      "            return\n",
      "\n"
     ]
    }
   ],
   "source": [
    "import collections\n",
    "import inspect\n",
    "\n",
    "print(inspect.getsource(collections.UserList.__iter__))"
   ]
  },
  {
   "cell_type": "markdown",
   "id": "0587df84",
   "metadata": {},
   "source": [
    "The `__iter__()` method in our `Program` class will be a coroutine that will enable the implementation of branch instructions by changing the value of the index variable to any value between `0` and the `length - 1` of the program. To see how, let's take a little detour to review in more detail some Python concepts and constructs.\n",
    "\n",
    "The `__iter__()` method defined by `collections.UserList` is a generator function. As explained in [Making sense of generators, coroutines, and “yield from” in Python](https://lerner.co.il/2020/05/08/making-sense-of-generators-coroutines-and-yield-from-in-python/):\n",
    "\n",
    "- A generator function, when executed, returns a generator object.\n",
    "- A generator object implements the iterator protocol, meaning that it knows what to do in a `for` loop.\n",
    "- Each time a generator object reaches a `yield` statement, it returns the yielded value to the `for` loop that is invoking it, and goes to sleep.\n",
    "- With each successive iteration, the generator object starts running from where it paused (i.e., just after the most recent `yield` statement)\n",
    "- When the generator object reaches the end of the function, or encounters a `return` statement, it raises a `StopIteration` exception, which is how Python iterators indicate to `for` loops that they’ve reached the end of the line.\n",
    "\n",
    "Let's define a `collections.UserList` and iterate over it with a `for` loop:"
   ]
  },
  {
   "cell_type": "code",
   "execution_count": 52,
   "id": "8d4e61bc",
   "metadata": {
    "scrolled": true
   },
   "outputs": [
    {
     "name": "stdout",
     "output_type": "stream",
     "text": [
      "0\n",
      "1\n",
      "2\n"
     ]
    }
   ],
   "source": [
    "a_list = collections.UserList([0, 1, 2])\n",
    "\n",
    "for item in a_list:\n",
    "    print(item)"
   ]
  },
  {
   "cell_type": "markdown",
   "id": "793a9a57",
   "metadata": {},
   "source": [
    "We can also interact with the generator function directly, similar to what the `for` statement does behind the scenes. An iterable object, such as a `collection.UserList`, produces a fresh new iterator or generator object each time you pass it to the iter() built-in function"
   ]
  },
  {
   "cell_type": "code",
   "execution_count": 53,
   "id": "983209c8",
   "metadata": {},
   "outputs": [
    {
     "data": {
      "text/plain": [
       "<generator object Sequence.__iter__ at 0x7f121e2693c0>"
      ]
     },
     "execution_count": 53,
     "metadata": {},
     "output_type": "execute_result"
    }
   ],
   "source": [
    "a_list = collections.UserList([0, 1, 2])\n",
    "\n",
    "g = iter(a_list)\n",
    "g"
   ]
  },
  {
   "cell_type": "markdown",
   "id": "db68c2b4",
   "metadata": {},
   "source": [
    "Notice that when `iter()` was called, it returned a generator object. This of course happened because `iter()` in turn called the `__iter__()` in `collections.UserList`. We now execute the generator object with the `next()` built-in function:"
   ]
  },
  {
   "cell_type": "code",
   "execution_count": 54,
   "id": "c6383b98",
   "metadata": {},
   "outputs": [
    {
     "name": "stdout",
     "output_type": "stream",
     "text": [
      "0\n",
      "1\n",
      "2\n",
      "End of a_list\n"
     ]
    }
   ],
   "source": [
    "print(next(g))\n",
    "print(next(g))\n",
    "print(next(g))\n",
    "\n",
    "try:\n",
    "    next(g)\n",
    "except StopIteration:\n",
    "    print('End of a_list')"
   ]
  },
  {
   "cell_type": "markdown",
   "id": "62eb2d0c",
   "metadata": {},
   "source": [
    "Generator functions use the statement `yield` to produce a stream of objects so their callers can iterate over them (in a `for` loop for example). `yield`, though, can also be an expression and be placed on the right hand side of an assigment. This allows functions to consume values sent to them with their `send()` method by their callers. Such functions are called coroutines and open the possibility of concurrent programming in a single thread. Let's look at a simple example, borrowed from [A Curious Course on Coroutines and Concurrency](http://www.dabeaz.com/coroutines/):"
   ]
  },
  {
   "cell_type": "code",
   "execution_count": 55,
   "id": "03a1a6a6",
   "metadata": {},
   "outputs": [],
   "source": [
    "def grep(pattern):\n",
    "    print (\"Looking for %s\" % pattern)\n",
    "    while True:\n",
    "        line = (yield)\n",
    "        if pattern in line:\n",
    "            print(line)"
   ]
  },
  {
   "cell_type": "markdown",
   "id": "066e4578",
   "metadata": {},
   "source": [
    "Execution of a coroutine is similar to a generator. When a coroutine is called, it returns a generator:"
   ]
  },
  {
   "cell_type": "code",
   "execution_count": 56,
   "id": "bba3e6e5",
   "metadata": {},
   "outputs": [
    {
     "data": {
      "text/plain": [
       "<generator object grep at 0x7f121e269580>"
      ]
     },
     "execution_count": 56,
     "metadata": {},
     "output_type": "execute_result"
    }
   ],
   "source": [
    "c = grep(\"python\")\n",
    "c"
   ]
  },
  {
   "cell_type": "markdown",
   "id": "c5935320",
   "metadata": {},
   "source": [
    "Coroutines only run in response to the `next()` statement (like generators) and their `send()` method. All coroutines must be \"primed\" first by calling `next()` on them. This advances execution to the first `yield` expression. At this, point a coroutine is ready to receive a value:"
   ]
  },
  {
   "cell_type": "code",
   "execution_count": 57,
   "id": "e963124b",
   "metadata": {},
   "outputs": [
    {
     "name": "stdout",
     "output_type": "stream",
     "text": [
      "Looking for python\n"
     ]
    }
   ],
   "source": [
    "# Prime the coroutine so execution advances to the yield expression\n",
    "next(c)"
   ]
  },
  {
   "cell_type": "code",
   "execution_count": 58,
   "id": "bda4f634",
   "metadata": {},
   "outputs": [
    {
     "name": "stdout",
     "output_type": "stream",
     "text": [
      "python generators and coroutines rock!\n"
     ]
    }
   ],
   "source": [
    "# Send lines to the coroutine, so it can search for the pattern \"python\"\n",
    "c.send(\"Yeah, but no, but yeah, but no\")\n",
    "c.send(\"A series of tubes\")\n",
    "c.send(\"python generators and coroutines rock!\")"
   ]
  },
  {
   "cell_type": "markdown",
   "id": "57876601",
   "metadata": {},
   "source": [
    "As indicated above, our `Program` class inherits from `collections.UserList` and refines it as follows:\n",
    "\n",
    "- It overrides the `__iter__()` method with a coroutine. This enables the `Computer` class that we will define below to iterate sequentially over the instructions in a `Program`, while making it possible to change the next instruction to be returned as a result of a branch instruction execution. An `int` value produced by the coroutine's `yield` expression is used as a pointer to the next instruction to be retrieved, thus altering the flow of execution.\n",
    "- It adds a  `_parse()` method, which parses each instruction using the regular expression presented above, performs additional checks and returns a `ParsedInstruction` named tuple with two attributes, `action` and `argument`, for ease of execution by the `Computer` class."
   ]
  },
  {
   "cell_type": "code",
   "execution_count": 59,
   "id": "20af2b7f",
   "metadata": {},
   "outputs": [],
   "source": [
    "s = collections.namedtuple(\"ParsedInstruction\",\n",
    "                           \"action, argument\")\n",
    "\n",
    "\n",
    "class Program(collections.UserList):\n",
    "\n",
    "    def __iter__(self):\n",
    "        next_instruction = 0\n",
    "        try:\n",
    "            while True:\n",
    "                instruction = self[next_instruction]\n",
    "                next_instruction += 1\n",
    "                branch_dest = yield self._parse(instruction)\n",
    "                \n",
    "                # Flow of execution is altered when the preceding yield\n",
    "                # expression produces a value of type int\n",
    "                if isinstance(branch_dest, int):\n",
    "                    next_instruction = branch_dest\n",
    "        except IndexError:\n",
    "            return\n",
    "\n",
    "    def _parse(self, instruction):\n",
    "        match = RE_LINE.search(instruction.lower())\n",
    "        if not match:\n",
    "            raise ValueError('Invalid instruction \"%s\"' % instruction)\n",
    "        action = match.group('action')\n",
    "        arg = match.group('arg')\n",
    "        is_arg_literal = arg[0] == '#'\n",
    "        is_branch_destination = arg.isnumeric()\n",
    "        if action not in ACTION_SET:\n",
    "            raise ValueError('Action \"%s\" not in actions set' %\n",
    "                             match.group('action'))\n",
    "        if is_arg_literal:\n",
    "            if action in ACTIONS_NO_LITERAL:\n",
    "                raise ValueError('Action \"%s\" cannot have a literal argument' %\n",
    "                                 match.group('action'))\n",
    "            arg = int(arg[1:])\n",
    "        if action in BRANCHES:\n",
    "            if not is_branch_destination:\n",
    "                raise ValueError(\n",
    "                    'Branch \"%s\" at %s has non branch destination \"%s\"' %\n",
    "                    (action, self._next, arg))\n",
    "            arg = int(arg)\n",
    "            if arg >= len(self) or arg < 0:\n",
    "                raise ValueError(\n",
    "                    'Branch \"%s\" to destination \"%s\" jumps outside program '\n",
    "                    'boundaries' % (action, arg))\n",
    "        return ParsedInstruction(action, arg)"
   ]
  },
  {
   "cell_type": "markdown",
   "id": "88c421c7",
   "metadata": {},
   "source": [
    "Let's create a `Program` and its generator (coroutine) and \"prime\" the latter to start fetching instructions:"
   ]
  },
  {
   "cell_type": "code",
   "execution_count": 60,
   "id": "456d49be",
   "metadata": {},
   "outputs": [
    {
     "data": {
      "text/plain": [
       "ParsedInstruction(action='add', argument=10)"
      ]
     },
     "execution_count": 60,
     "metadata": {},
     "output_type": "execute_result"
    }
   ],
   "source": [
    "# Define a program with 3 instructions\n",
    "p = Program(['add #10',     # add 10 to the accumulator\n",
    "             'cmp #50',     # if the accumulator is greater than 50...\n",
    "             'bgt 0'])      # ... loop back to the first instruction\n",
    "\n",
    "# Get the Program's iterator (coroutine)\n",
    "coroutine = iter(p)\n",
    "\n",
    "# \"Prime\" the coroutine and fetch the first instruction\n",
    "parsed_instruction = next(coroutine)\n",
    "parsed_instruction"
   ]
  },
  {
   "cell_type": "markdown",
   "id": "4f63c219",
   "metadata": {},
   "source": [
    "We now fetch the other two instructions in the program and, for the `bgt` instruction, alter the flow of execution by sending a `0` (the first instruction's location) back to the coroutine:"
   ]
  },
  {
   "cell_type": "code",
   "execution_count": 61,
   "id": "74bcdd26",
   "metadata": {},
   "outputs": [
    {
     "name": "stdout",
     "output_type": "stream",
     "text": [
      "ParsedInstruction(action='cmp', argument=50)\n",
      "ParsedInstruction(action='bgt', argument=0)\n",
      "ParsedInstruction(action='add', argument=10)\n"
     ]
    }
   ],
   "source": [
    "# Fetch the cmp instruction\n",
    "parsed_instruction = coroutine.send(None)\n",
    "print(parsed_instruction)\n",
    "\n",
    "# Fetch the bgt instruction\n",
    "parsed_instruction = coroutine.send(None)\n",
    "print(parsed_instruction)\n",
    "\n",
    "# Branch back to the add instruction at location 0\n",
    "parsed_instruction = coroutine.send(0)\n",
    "print(parsed_instruction)"
   ]
  },
  {
   "cell_type": "markdown",
   "id": "f93e61e8",
   "metadata": {},
   "source": [
    "## Using decorators to factor-out logic\n",
    "\n",
    "By definition, a decorator is a function that takes another function as argument and extends the behavior of the latter function without explicitly modifying it. This makes decorators a great mechanism to factor-out logic that is repeated across several functions or methods. Frequently, this is \"administrative\" logic that is not part of the main functionality that we are implementing. In our case, we are implementing two decorators that are used by the `Computer` class defined below:\n",
    "\n",
    "- As mentioned above, many `Computer` instructions can take register or literal operands. In the `Computer` class we have, for each instruction, a method that implements it. The methods for instructions that can take both types of operands are decorated with `get_argument`. This decorator retrieves the actual value to be operated on from the register specified in the instruction, when that is the case. This way, the methods can assume they only receive literal operands.\n",
    "- For debugging purposes, we may choose to log to the console the name of methods that implement instructions as they are executed, along with the arguments received. To accomplish this, we use the `log` decorator together with a `LOG` flag that is configured with `True` or `False` in the `Computer` class."
   ]
  },
  {
   "cell_type": "code",
   "execution_count": 62,
   "id": "ebf893ad",
   "metadata": {},
   "outputs": [],
   "source": [
    "import functools\n",
    "\n",
    "\n",
    "def get_argument(func):\n",
    "    functools.wraps(func)\n",
    "\n",
    "    def wrapper(self, argument):\n",
    "        to_pass = argument\n",
    "        if not isinstance(argument, int):\n",
    "            to_pass = self._state[argument]\n",
    "        return func(self, to_pass)\n",
    "\n",
    "    return wrapper\n",
    "\n",
    "\n",
    "def log(func):\n",
    "    functools.wraps(func)\n",
    "\n",
    "    def wrapper(self, argument):\n",
    "        if LOG:\n",
    "            print(func.__name__, argument)\n",
    "        return func(self, argument)\n",
    "\n",
    "    return wrapper"
   ]
  },
  {
   "cell_type": "markdown",
   "id": "e17babd9",
   "metadata": {},
   "source": [
    "## Implementing the computer\n",
    "\n",
    "We can now implement the `Computer` class. Its core is the `execute()` method, which iterates over the instructions of each program by interacting with the `Program`'s `__iter__()` coroutine in the same manner we interacted with it manually above. For each `parsed_instruction` yielded by the coroutine, `execute()` passes `parsed_instruction.action` as input to Python's `getattr()` to select and execute the specific method that implements the instruction, which receives `parsed_instruction.argument` as input. Most of the methods that implement instructions return `None` to `execute()`, which in turn sends it back to the coroutine. The exceptions are the branch instructions, of which we only have `bgt`. These branch methods return the integer representing the location of the next instruction to be executed.\n",
    "\n",
    "Following the iterator protocol, `execute()` catches the `StopIteration` exception, which is the mechanism that the coroutine uses to signal the end of a program."
   ]
  },
  {
   "cell_type": "code",
   "execution_count": 63,
   "id": "90450afb",
   "metadata": {},
   "outputs": [],
   "source": [
    "LOG = True \n",
    "\n",
    "\n",
    "class Computer(object):\n",
    "    def __init__(self):\n",
    "        self._state = {\n",
    "            \"ri\": None,\n",
    "            \"ro\": None,\n",
    "            \"r0\": None,\n",
    "            \"r1\": None,\n",
    "            \"r2\": None,\n",
    "            \"r3\": None,\n",
    "            \"r4\": None,\n",
    "            \"r5\": None,\n",
    "            \"r6\": None,\n",
    "            \"r7\": None,\n",
    "            \"r8\": None,\n",
    "            \"r9\": None,\n",
    "            \"zero\": None,\n",
    "            \"negative\": None,\n",
    "            \"accumulator\": 0\n",
    "        }\n",
    "\n",
    "        self._programs = []\n",
    "        self._inputs = []\n",
    "\n",
    "    def load(self, program, input=0):\n",
    "        self._programs.append(iter(program))\n",
    "        self._inputs.append(input)\n",
    "\n",
    "    def execute(self):\n",
    "        for i, program in enumerate(self._programs):\n",
    "            self._state['ri'] = self._inputs[i]\n",
    "            parsed_instruction = next(program)\n",
    "            while True:\n",
    "                branch_dest = getattr(self, parsed_instruction.action)(\n",
    "                    parsed_instruction.argument)\n",
    "                try:\n",
    "                    parsed_instruction = program.send(branch_dest)\n",
    "                except StopIteration:\n",
    "                    # End of program\n",
    "                    break\n",
    "\n",
    "    @get_argument\n",
    "    @log\n",
    "    def lda(self, argument):\n",
    "        self._state['accumulator'] = argument\n",
    "\n",
    "    @log\n",
    "    def sto(self, argument):\n",
    "        self._state[argument] = self._state['accumulator']\n",
    "\n",
    "    @log\n",
    "    def bgt(self, argument):\n",
    "        if not (self._state['zero'] or self._state['negative']):\n",
    "            return argument\n",
    "\n",
    "    @get_argument\n",
    "    @log\n",
    "    def cmp(self, argument):\n",
    "        v = self._state['accumulator'] - argument\n",
    "        # Set flags in the computer state that are used by the logic\n",
    "        # of branch methods\n",
    "        self._state['zero'] = not v\n",
    "        self._state['negative'] = v < 0\n",
    "\n",
    "    @get_argument\n",
    "    @log\n",
    "    def add(self, argument):\n",
    "        self._state['accumulator'] += argument\n",
    "\n",
    "    def state(self):\n",
    "        return self._state"
   ]
  },
  {
   "cell_type": "markdown",
   "id": "8880b3fd",
   "metadata": {},
   "source": [
    "We can now define a function that creates a computer and the two programs defined by the coding challenge above:"
   ]
  },
  {
   "cell_type": "code",
   "execution_count": 64,
   "id": "e410065c",
   "metadata": {},
   "outputs": [],
   "source": [
    "def create_computer_and_programs():\n",
    "    c = Computer()\n",
    "\n",
    "    # p1: receive int through INPUT; add +10 to the INPUT; store result.\n",
    "    p1 = Program(['lda ri',     # load input\n",
    "                  'add #10',    # add 10 to it\n",
    "                  'sto r0'])    # store result for next program\n",
    "\n",
    "    # p2: load result of previous program execution; depending on if\n",
    "    #     it's > 50, set a register (r1) in machine state to 100; otherwise to 0.\n",
    "    p2 = Program(['lda #100',   # assume p1 output > 50, so...\n",
    "                  'sto r1',     # ... set r1 to 100\n",
    "                  'lda r0',     # load p1 output\n",
    "                  'cmp #50',    # if p1 output...\n",
    "                  'bgt 7',      # ... is greater than 50, r1 already set up\n",
    "                  'lda #0',     # p1 output is less than 50 so ...\n",
    "                  'sto r1',     # ... set r1 to 0\n",
    "                  'cmp #0'])    # noop to have destination for bgt above\n",
    "    return c, p1, p2"
   ]
  },
  {
   "cell_type": "markdown",
   "id": "54e0251a",
   "metadata": {},
   "source": [
    "If we load `p1` with an input value of `40`, its output (stored in `r0`) will be `50`. As a consequence, `p2` will set `r1` to `0`:"
   ]
  },
  {
   "cell_type": "code",
   "execution_count": 65,
   "id": "60b0fc35",
   "metadata": {},
   "outputs": [
    {
     "name": "stdout",
     "output_type": "stream",
     "text": [
      "lda 40\n",
      "add 10\n",
      "sto r0\n",
      "lda 100\n",
      "sto r1\n",
      "lda 50\n",
      "cmp 50\n",
      "bgt 7\n",
      "lda 0\n",
      "sto r1\n",
      "cmp 0\n",
      "p2's output = 0\n"
     ]
    }
   ],
   "source": [
    "c, p1, p2 = create_computer_and_programs()\n",
    "c.load(p1, input=40)\n",
    "c.load(p2)\n",
    "c.execute()\n",
    "print(\"p2's output = %s\" % c.state()['r1'])"
   ]
  },
  {
   "cell_type": "markdown",
   "id": "ad7c0341",
   "metadata": {},
   "source": [
    "Whereas if `p1` is loaded with an input value of `41`, its output will be `51` and `p2` will set `r1` to `100`:"
   ]
  },
  {
   "cell_type": "code",
   "execution_count": 66,
   "id": "bae4434c",
   "metadata": {},
   "outputs": [
    {
     "name": "stdout",
     "output_type": "stream",
     "text": [
      "lda 41\n",
      "add 10\n",
      "sto r0\n",
      "lda 100\n",
      "sto r1\n",
      "lda 51\n",
      "cmp 50\n",
      "bgt 7\n",
      "cmp 0\n",
      "p2's output = 100\n"
     ]
    }
   ],
   "source": [
    "c, p1, p2 = create_computer_and_programs()\n",
    "c.load(p1, input=41)\n",
    "c.load(p2)\n",
    "c.execute()\n",
    "print(\"p2's output = %s\" % c.state()['r1'])"
   ]
  },
  {
   "cell_type": "markdown",
   "id": "6cd1c9da",
   "metadata": {},
   "source": [
    "With this we conclude the implementation of this coding challenge."
   ]
  }
 ],
 "metadata": {
  "kernelspec": {
   "display_name": "Python 3 (ipykernel)",
   "language": "python",
   "name": "python3"
  },
  "language_info": {
   "codemirror_mode": {
    "name": "ipython",
    "version": 3
   },
   "file_extension": ".py",
   "mimetype": "text/x-python",
   "name": "python",
   "nbconvert_exporter": "python",
   "pygments_lexer": "ipython3",
   "version": "3.9.7"
  },
  "nikola": {
   "category": "",
   "date": "2021-11-25 17:17:30 UTC-06:00",
   "description": "",
   "link": "",
   "slug": "on-being-pythonic",
   "tags": "Python",
   "title": "On being pythonic",
   "type": "text"
  }
 },
 "nbformat": 4,
 "nbformat_minor": 5
}
