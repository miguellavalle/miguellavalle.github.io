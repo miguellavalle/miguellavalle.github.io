{
 "cells": [
  {
   "cell_type": "markdown",
   "id": "d3a02692",
   "metadata": {},
   "source": [
    "I recently was given a Python coding challenge during a job interview. I was criticized for not writing \"pythonic\" enough code. The good news is that I did great with the other interviewers in the panel, so I still got the job \\o/. Afterwards, though, I decided to use the criticism as a learning opportunity, revisit the challenge and write this blog post with the resulting code, while making my best effort to be \"pythonic\". To that end, here's a basic definition: pythonic code uses the powerful idioms of Python that distinguishes it from other languages to produce elegant and concise programs. To guide me on the road to being \"pythonic\", I am using the following references:\n",
    "\n",
    "- [Transforming Code into Beautiful, Idiomatic Python](https://www.youtube.com/watch?v=OSGv2VnC0go) ([slides](https://speakerdeck.com/pyconslides/transforming-code-into-beautiful-idiomatic-python-by-raymond-hettinger-1)) by [Raymond Hettinger](https://github.com/rhettinger), who is a Python core developer.\n",
    "- Since in this exercise we are going to use generators and coroutines, my other reference is [Making sense of generators, coroutines, and “yield from” in Python](https://lerner.co.il/2020/05/08/making-sense-of-generators-coroutines-and-yield-from-in-python/) by [Reuven Lerner](https://lerner.co.il/), who teaches Python all over the world.\n",
    "\n",
    "In the code that follows I will cover the following topics\n",
    "\n",
    "- One of the aspects that strongly distinguishes Python from other programming languages is its approach to iterations. As Raymond Hettinger argues in his presentation, Python's `for` statement should have been called `for each` to better reflect its semantics. I will talk about iterables, iterators, the iterator protocol, generators and co-routines.\n",
    "- Python's regular expresions module.\n",
    "- Improving clarity with named tuples.\n",
    "- Factoring out administrative logic with decorators.\n",
    "\n",
    "The coding problem was stated as follows:"
   ]
  },
  {
   "cell_type": "code",
   "execution_count": null,
   "id": "f82f9b66",
   "metadata": {},
   "outputs": [],
   "source": [
    "# Model a computing device that can load third party programs.\n",
    "\n",
    "# PROGRAMS consist of ACTIONS that share an execution ENVIRONMENT,\n",
    "# particularly computer STATE. ACTIONS belong to a limited set supported\n",
    "# by this device. ACTIONS can communicate with each other through\n",
    "# REGISTERS.\n",
    "\n",
    "# PROGRAM execution results in computer STATE change. The STATE change\n",
    "# can then be inspected.\n",
    "\n",
    "# Device should allow to LOAD multiple PROGRAMS and execute them\n",
    "# SEQUENTIALLY.\n",
    "\n",
    "# Typical API of the computing device would include:\n",
    "# - load(_program)\n",
    "# - execute\n",
    "# - (get_)state\n",
    "\n",
    "# Implement the device, define two programs (see below), load them\n",
    "# and execute, then show results.\n",
    "\n",
    "# program1: receive int through INPUT; add +10 to the INPUT; store result.\n",
    "# program2: load result of previous program execution; depending on if\n",
    "#           it's > 50, set a register in machine state to 100; otherwise to 0.\n",
    "\n",
    "# usage example\n",
    "# c = Computer(...)\n",
    "# p1 = Program(...)\n",
    "# p2 = Program(...)\n",
    "# c.state()  # -> {...}\n",
    "# c.load(p1, input=...)\n",
    "# c.load(p2, input=...)\n",
    "# c.execute()\n",
    "# c.state()  # -> {...0 or 100...}"
   ]
  },
  {
   "cell_type": "markdown",
   "id": "fe3fea78",
   "metadata": {},
   "source": [
    "To make parsing programs easy, the computing device (henceforth the computer) will have one operand instructions and an accumulator register. The `add` instruction, for example, adds its operand to the accumulator register. This means that we are also going to need `lda`  and `sto` instructions, that load a value to the accumulator and store the value of the accumulator in another register, respectively.  Those registers are part of the computer's state and are described further below. To be able to write `program1` and `program2` in the coding challenge, the following is the minimum action set necessary:"
   ]
  },
  {
   "cell_type": "code",
   "execution_count": null,
   "id": "afadc34a",
   "metadata": {},
   "outputs": [],
   "source": [
    "ACTION_SET = set(['lda', 'sto', 'bgt', 'cmp', 'add'])\n",
    "ACTIONS_NO_LITERAL = set(['sto', 'bgt'])\n",
    "BRANCHES = set(['bgt'])"
   ]
  },
  {
   "cell_type": "markdown",
   "id": "ae5d7edf",
   "metadata": {},
   "source": [
    "Some instructions, like `lda` or `add` can take two types of operands, registers and literals:\n",
    "\n",
    "- `lda r0` loads the content of register `r0` to the acumulator.\n",
    "- `lda #10` loads the value `10` to the acumulator.\n",
    "\n",
    "In the case of the `sto` instruction, though, it doesn't make sense to have literal operands. This instruction always stores the value in the acumulator in one of the registers. The set `ACTIONS_NO_LITERAL` will help in processing this type of instructions.\n",
    "\n",
    "Similarly, branches only accept destination operands, which is an integer `i` from `0` to `n - 1`, where `n` is the total number of instructions in the program. Branches, like `bgt`, direct the computer to continue fetching instructions from the location specified by the destination operand.  In other words, the computer is expected to fetch next the `ith` instruction from the beginning of the program. The set `BRANCHES` will help in processing this type of instructions.\n",
    "\n",
    "To parse a programs, we are going to use Python's `re` (regulat expressions) module:"
   ]
  },
  {
   "cell_type": "code",
   "execution_count": 3,
   "id": "becc2bcf",
   "metadata": {},
   "outputs": [],
   "source": [
    "import re\n",
    "\n",
    "RE_LINE = re.compile(\n",
    "    r'^(?P<action>[a-z]{3})\\s+(?P<arg>r[io0-9]$|\\#-?[0-9]+$|[0-9]+$)')"
   ]
  },
  {
   "cell_type": "markdown",
   "id": "cbf08427",
   "metadata": {},
   "source": [
    "This regular expression parses one instruction at a time. It can be divided in three parts:\n",
    "\n",
    "1. The named capture group `^(?P<action>[a-z]{3})` recognizes sequences of 3 alphabetic characters that correspond to members of `ACTION_SET`. Note that it is anchored to the beginning of the string with `^`.\n",
    "2. One or more whitespaces `\\s+` that separate the `action` from the `arg`.\n",
    "3. The named capture group `(?P<arg>r[io0-9]$|\\#-?[0-9]+$|[0-9]+$)`. This group can be one of three alternatives, separated by `|` in the regular expression (note that each alternative is anchored to the end of the string with `$`):\n",
    "- `r[io0-9]$`, one of the computer's registers `ri`, `ro`, `r0`,... `r9` or...\n",
    "- `#-?[0-9]+$`, a literal beginning with `#` as explained above or...\n",
    "- `[0-9]+$`, a branch destination as explained above.\n",
    "\n",
    "These are a few examples of the instructions that can be parsed:"
   ]
  },
  {
   "cell_type": "code",
   "execution_count": 14,
   "id": "29d80258",
   "metadata": {},
   "outputs": [
    {
     "name": "stdout",
     "output_type": "stream",
     "text": [
      "lda\n",
      "r0 \n",
      "\n",
      "add\n",
      "#16 \n",
      "\n",
      "bgt\n",
      "23\n"
     ]
    }
   ],
   "source": [
    "# Instruction with register operand\n",
    "match = RE_LINE.search('lda r0')\n",
    "print(match.group('action'))\n",
    "print(match.group('arg'), '\\n')\n",
    "\n",
    "# Instruction with literal operand\n",
    "match = RE_LINE.search('add      #16')\n",
    "print(match.group('action'))\n",
    "print(match.group('arg'), '\\n')\n",
    "\n",
    "# Instruction with branch destination operand\n",
    "match = RE_LINE.search('bgt 23')\n",
    "print(match.group('action'))\n",
    "print(match.group('arg'))"
   ]
  },
  {
   "cell_type": "markdown",
   "id": "b8cc5424",
   "metadata": {},
   "source": [
    "If the provided string doesn't conform with the regular expression, no match object will be returned by the `search` method:"
   ]
  },
  {
   "cell_type": "code",
   "execution_count": 21,
   "id": "24193f13",
   "metadata": {},
   "outputs": [
    {
     "name": "stdout",
     "output_type": "stream",
     "text": [
      "None \n",
      "\n",
      "None \n",
      "\n",
      "None\n"
     ]
    }
   ],
   "source": [
    "# Invalid action\n",
    "match = RE_LINE.search('ldab r0')\n",
    "print(match, '\\n')\n",
    "\n",
    "# Invalid operand\n",
    "match = RE_LINE.search('lda ##10')\n",
    "print(match, '\\n')\n",
    "\n",
    "# No operand\n",
    "match = RE_LINE.search('lda')\n",
    "print(match)"
   ]
  },
  {
   "cell_type": "markdown",
   "id": "b91627b7",
   "metadata": {},
   "source": [
    "For a deeper look into Python's regular expressions, here's [part 1](https://realpython.com/regex-python/#) and [part 2](https://realpython.com/regex-python-part-2/) of an excellent tutorial."
   ]
  },
  {
   "cell_type": "markdown",
   "id": "940d5ed0",
   "metadata": {},
   "source": [
    "Python lists have two characteristics that make them very suitable to represent the programs defined in this coding challenge:\n",
    "\n",
    "- They are an ordered collection of objects. A program is an ordered collection of instructions, with each instruction being a string that can be recognized using the regular expresion `RE_LINE` defined above.\n",
    "- Their individual elements can be directly accesed using and integer index. This index will serve as the program counter, i.e. the pointer to the next instruction within a program to be executed.\n",
    "\n",
    "We are going to tweak the behavior of lists a little bit, to control better the execution of programs. So instead of using lists directly, we are going  to use [collections.UserList](https://docs.python.org/3/library/collections.html#userlist-objects), a useful base class for user defined list-like classes which can inherit from them and override existing methods or add new ones. To be more precise, there will be a `Program` class that will inherit from `collections.UserList` and override the `__iter__` method. As can be seen below, the original `__iter__` method initializes an index `i` with `0` and proceeds to iterate sequentially over the list, returning the next element in each iteration:"
   ]
  },
  {
   "cell_type": "code",
   "execution_count": 2,
   "id": "1e802edb",
   "metadata": {
    "scrolled": true
   },
   "outputs": [
    {
     "name": "stdout",
     "output_type": "stream",
     "text": [
      "    def __iter__(self):\n",
      "        i = 0\n",
      "        try:\n",
      "            while True:\n",
      "                v = self[i]\n",
      "                yield v\n",
      "                i += 1\n",
      "        except IndexError:\n",
      "            return\n",
      "\n"
     ]
    }
   ],
   "source": [
    "import collections\n",
    "import inspect\n",
    "\n",
    "print(inspect.getsource(collections.UserList.__iter__))"
   ]
  },
  {
   "cell_type": "markdown",
   "id": "0587df84",
   "metadata": {},
   "source": [
    "The `__iter__` method in our `Program` class will be a co-routine that will enable the implementation of branch instructions by changing the value of the index variable to any value between 0 and the length - 1 of the program. To see how, let's take a little detour to review in more detail some Python concepts and constructs.\n",
    "\n",
    "The `__iter__` method defined by `collections.UserList` is a generator function. As explained in [Making sense of generators, coroutines, and “yield from” in Python](https://lerner.co.il/2020/05/08/making-sense-of-generators-coroutines-and-yield-from-in-python/):\n",
    "\n",
    "- A generator function, when executed, returns a generator object.\n",
    "- A generator object implements the iterator protocol, meaning that it knows what to do in a `for` loop.\n",
    "- Each time a generator reaches a `yield` statement, it returns the yielded value to the `for` loop that is invoking it, and goes to sleep.\n",
    "- With each successive iteration, the generator starts running from where it paused (i.e., just after the most recent `yield` statement)\n",
    "- When the generator reaches the end of the function, or encounters a `return` statement, it raises a `StopIteration` exception, which is how Python iterators indicate to `for` loops that they’ve reached the end of the line.\n",
    "\n",
    "Let's define a `collections.UserList` and itereate over it with a `for` loop:"
   ]
  },
  {
   "cell_type": "code",
   "execution_count": 22,
   "id": "8d4e61bc",
   "metadata": {},
   "outputs": [
    {
     "name": "stdout",
     "output_type": "stream",
     "text": [
      "0\n",
      "1\n",
      "2\n"
     ]
    }
   ],
   "source": [
    "a_list = collections.UserList([0, 1, 2])\n",
    "\n",
    "for item in a_list:\n",
    "    print(item)"
   ]
  },
  {
   "cell_type": "markdown",
   "id": "793a9a57",
   "metadata": {},
   "source": [
    "We can also interact with the `__iter__` generator function directly, similar to what the `for` statement does behind the scenes:"
   ]
  },
  {
   "cell_type": "code",
   "execution_count": 28,
   "id": "f29176af",
   "metadata": {},
   "outputs": [
    {
     "name": "stdout",
     "output_type": "stream",
     "text": [
      "<class 'generator'> \n",
      "\n",
      "0\n",
      "1\n",
      "2\n",
      "\n",
      " End of a_list\n"
     ]
    }
   ],
   "source": [
    "a_list = collections.UserList([0, 1, 2])\n",
    "\n",
    "g = a_list.__iter__()\n",
    "print(type(g), '\\n')\n",
    "\n",
    "print(next(g))\n",
    "print(next(g))\n",
    "print(next(g))\n",
    "\n",
    "try:\n",
    "    next(g)\n",
    "except StopIteration:\n",
    "    print('\\n End of a_list')"
   ]
  },
  {
   "cell_type": "markdown",
   "id": "62eb2d0c",
   "metadata": {},
   "source": [
    "We only need two more things to be able to implement the `Program` class `__iter__` method:\n",
    "\n",
    "- First,"
   ]
  },
  {
   "cell_type": "code",
   "execution_count": null,
   "id": "20af2b7f",
   "metadata": {},
   "outputs": [],
   "source": [
    "import functools\n",
    "    \n",
    "ParsedInstruction = collections.namedtuple(\"ParsedInstruction\",\n",
    "                                           \"action, argument\")\n",
    "LOG = True \n",
    "\n",
    "\n",
    "class Program(collections.UserList):\n",
    "\n",
    "    def __iter__(self):\n",
    "        next_instruction = 0\n",
    "        try:\n",
    "            while True:\n",
    "                instruction = self[next_instruction]\n",
    "                next_instruction += 1\n",
    "                jump_dest = yield self._parse(instruction)\n",
    "                if isinstance(jump_dest, int):\n",
    "                    next_instruction = jump_dest\n",
    "        except IndexError:\n",
    "            return\n",
    "\n",
    "    def _parse(self, instruction):\n",
    "        match = RE_LINE.search(instruction.lower())\n",
    "        if not match:\n",
    "            raise ValueError('Invalid instruction \"%s\"' % instruction)\n",
    "        action = match.group('action')\n",
    "        arg = match.group('arg')\n",
    "        is_arg_literal = arg[0] == '#'\n",
    "        is_branch_destination = arg.isnumeric()\n",
    "        if action not in ACTION_SET:\n",
    "            raise ValueError('Action \"%s\" not in actions set' %\n",
    "                             match.group('action'))\n",
    "        if is_arg_literal:\n",
    "            if action in ACTIONS_NO_LITERAL:\n",
    "                raise ValueError('Action \"%s\" cannot have a literal argument' %\n",
    "                                 match.group('action'))\n",
    "            arg = int(arg[1:])\n",
    "        if action in BRANCHES:\n",
    "            if not is_branch_destination:\n",
    "                raise ValueError(\n",
    "                    'Branch \"%s\" at %s has non branch destination \"%s\"' %\n",
    "                    (action, self._next, arg))\n",
    "            arg = int(arg)\n",
    "            if arg >= len(self) or arg < 0:\n",
    "                raise ValueError(\n",
    "                    'Branch \"%s\" to destination \"%s\" jumps outside program '\n",
    "                    'boundaries' % (action, arg))\n",
    "        return ParsedInstruction(action, arg)\n",
    "\n",
    "\n",
    "class Computer(object):\n",
    "    def __init__(self):\n",
    "        self._state = {\n",
    "            \"ri\": None,\n",
    "            \"ro\": None,\n",
    "            \"r0\": None,\n",
    "            \"r1\": None,\n",
    "            \"r2\": None,\n",
    "            \"r3\": None,\n",
    "            \"r4\": None,\n",
    "            \"r5\": None,\n",
    "            \"r6\": None,\n",
    "            \"r7\": None,\n",
    "            \"r8\": None,\n",
    "            \"r9\": None,\n",
    "            \"zero\": None,\n",
    "            \"negative\": None,\n",
    "            \"accumulator\": 0\n",
    "        }\n",
    "\n",
    "        self._programs = []\n",
    "        self._inputs = []\n",
    "\n",
    "    def load(self, program, input=0):\n",
    "        self._programs.append(iter(program))\n",
    "        self._inputs.append(input)\n",
    "\n",
    "    def state(self):\n",
    "        return self._state\n",
    "\n",
    "    def execute(self):\n",
    "        for i, program in enumerate(self._programs):\n",
    "            self._state['ri'] = self._inputs[i]\n",
    "            parsed_instruction = next(program)\n",
    "            while True:\n",
    "                jump_dest = getattr(self, parsed_instruction.action)(\n",
    "                    parsed_instruction.argument)\n",
    "                try:\n",
    "                    parsed_instruction = program.send(jump_dest)\n",
    "                except StopIteration:\n",
    "                    break\n",
    "\n",
    "    def get_argument(func):\n",
    "        functools.wraps(func)\n",
    "\n",
    "        def wrapper(self, argument):\n",
    "            to_pass = argument\n",
    "            if not isinstance(argument, int):\n",
    "                to_pass = self._state[argument]\n",
    "            return func(self, to_pass)\n",
    "\n",
    "        return wrapper\n",
    "\n",
    "    def log(func):\n",
    "        functools.wraps(func)\n",
    "\n",
    "        def wrapper(self, argument):\n",
    "            if LOG:\n",
    "                print(func.__name__, argument)\n",
    "            return func(self, argument)\n",
    "\n",
    "        return wrapper\n",
    "\n",
    "    @get_argument\n",
    "    @log\n",
    "    def lda(self, argument):\n",
    "        self._state['accumulator'] = argument\n",
    "\n",
    "    @log\n",
    "    def sto(self, argument):\n",
    "        self._state[argument] = self._state['accumulator']\n",
    "\n",
    "    @get_argument\n",
    "    @log\n",
    "    def bgt(self, argument):\n",
    "        if not (self._state['zero'] or self._state['negative']):\n",
    "            return argument\n",
    "\n",
    "    @get_argument\n",
    "    @log\n",
    "    def cmp(self, argument):\n",
    "        v = self._state['accumulator'] - argument\n",
    "        self._state['zero'] = not v\n",
    "        self._state['negative'] = v < 0\n",
    "\n",
    "    @get_argument\n",
    "    @log\n",
    "    def add(self, argument):\n",
    "        self._state['accumulator'] += argument\n",
    "\n",
    "\n",
    "def main():\n",
    "    c = Computer()\n",
    "\n",
    "    # p1: receive int through INPUT; add +10 to the INPUT; store result.\n",
    "    p1 = Program(['lda ri',     # load input\n",
    "                  'add #10',    # add 10 to it\n",
    "                  'sto r0'])    # store result for next program\n",
    "\n",
    "    # p2: load result of previous program execution; depending on if\n",
    "    #     it's > 50, set a register in machine state to 100; otherwise to 0.\n",
    "    p2 = Program(['lda #100',   # assume p1 output > 50, so...\n",
    "                  'sto r1',     # ... set r1 to 100\n",
    "                  'lda r0',     # load p1 output\n",
    "                  'cmp #50',    # if p1 output...\n",
    "                  'bgt 7',      # ... is greater than 50, r1 already set up\n",
    "                  'lda #0',     # p1 output is less than 50 so ...\n",
    "                  'sto r1',     # ... set r0 to 0\n",
    "                  'cmp #0'])    # noop to have destination for bgt above\n",
    "\n",
    "    c.load(p1, input=40)\n",
    "    c.load(p2)\n",
    "    c.execute()\n",
    "    print(c.state())\n",
    "\n",
    "\n",
    "if __name__ == '__main__':\n",
    "    main()"
   ]
  }
 ],
 "metadata": {
  "kernelspec": {
   "display_name": "Python 3 (ipykernel)",
   "language": "python",
   "name": "python3"
  },
  "language_info": {
   "codemirror_mode": {
    "name": "ipython",
    "version": 3
   },
   "file_extension": ".py",
   "mimetype": "text/x-python",
   "name": "python",
   "nbconvert_exporter": "python",
   "pygments_lexer": "ipython3",
   "version": "3.9.7"
  },
  "nikola": {
   "category": "",
   "date": "2021-11-25 17:17:30 UTC-06:00",
   "description": "",
   "link": "",
   "slug": "on-being-pythonic",
   "tags": "",
   "title": "On being pythonic",
   "type": "text"
  }
 },
 "nbformat": 4,
 "nbformat_minor": 5
}
